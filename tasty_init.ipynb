{
 "cells": [
  {
   "cell_type": "code",
   "metadata": {
    "source_hash": "de1dc89d",
    "is_code_hidden": false,
    "execution_start": 1697230619667,
    "execution_millis": 186,
    "deepnote_to_be_reexecuted": false,
    "deepnote_app_is_code_hidden": true,
    "cell_id": "99c9553e12a44463bfe6d13056b11290",
    "deepnote_cell_type": "code",
    "ExecuteTime": {
     "end_time": "2023-10-15T23:23:48.383609700Z",
     "start_time": "2023-10-15T23:23:45.688907Z"
    }
   },
   "source": [
    "import sys\n",
    "sys.path.append('/root/work/tastytrade_api_thing')\n",
    "from lib.tasty_operations import MyTasty\n",
    "\n",
    "tasty = MyTasty().tasty"
   ],
   "block_group": "4e02d59ed21849839f44ee6f101bb783",
   "execution_count": 1,
   "outputs": []
  }
 ],
 "nbformat": 4,
 "nbformat_minor": 0,
 "metadata": {
  "deepnote": {},
  "orig_nbformat": 2,
  "deepnote_notebook_id": "c0e72e6b210d4b3a9a73aa928306cd35",
  "deepnote_persisted_session": {
   "createdAt": "2023-10-13T01:38:15.503Z"
  },
  "deepnote_execution_queue": [],
  "kernelspec": {
   "name": "python3",
   "language": "python",
   "display_name": "Python 3 (ipykernel)"
  }
 }
}
